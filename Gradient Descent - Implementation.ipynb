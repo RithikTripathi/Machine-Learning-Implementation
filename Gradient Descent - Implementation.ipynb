{
 "cells": [
  {
   "cell_type": "markdown",
   "id": "5b8a51cf",
   "metadata": {},
   "source": [
    "## Gradient Descent Practical Demonstration\n",
    "\n",
    "\n",
    "`Programmed By : Rithik Tripathi`\n",
    "\n",
    "[Connect with me on Linkedin](https://www.linkedin.com/in/rithik-tripathi-data-scientist/)"
   ]
  },
  {
   "cell_type": "code",
   "execution_count": 1,
   "id": "f7ec8efb",
   "metadata": {},
   "outputs": [],
   "source": [
    "import numpy as np\n",
    "import matplotlib.pyplot as plt"
   ]
  },
  {
   "cell_type": "code",
   "execution_count": 2,
   "id": "1b1525e3",
   "metadata": {},
   "outputs": [
    {
     "data": {
      "text/plain": [
       "array([0, 1, 2, 3, 4, 5, 6, 7, 8, 9])"
      ]
     },
     "execution_count": 2,
     "metadata": {},
     "output_type": "execute_result"
    }
   ],
   "source": [
    "x = np.arange(10)\n",
    "x"
   ]
  },
  {
   "cell_type": "code",
   "execution_count": 3,
   "id": "a80665e4",
   "metadata": {},
   "outputs": [
    {
     "data": {
      "text/plain": [
       "array([25, 16,  9,  4,  1,  0,  1,  4,  9, 16])"
      ]
     },
     "execution_count": 3,
     "metadata": {},
     "output_type": "execute_result"
    }
   ],
   "source": [
    "# creating y which is a function of x\n",
    "\n",
    "# y = f(x - 5)^2\n",
    "\n",
    "y = (x-5)**2\n",
    "y"
   ]
  },
  {
   "cell_type": "markdown",
   "id": "10e90f23",
   "metadata": {},
   "source": [
    "#### Goal of Gradient Descent\n",
    "\n",
    "`Given a function f(x) , we want to find the value of x that Minimizes f` "
   ]
  },
  {
   "cell_type": "markdown",
   "id": "414a09ec",
   "metadata": {},
   "source": [
    "##### Visualizing X vs Y"
   ]
  },
  {
   "cell_type": "code",
   "execution_count": 4,
   "id": "e203a99b",
   "metadata": {},
   "outputs": [
    {
     "data": {
      "text/plain": [
       "Text(0, 0.5, 'F(x)')"
      ]
     },
     "execution_count": 4,
     "metadata": {},
     "output_type": "execute_result"
    },
    {
     "data": {
      "image/png": "[encoded data removed]",
      "text/plain": [
       "<Figure size 576x396 with 1 Axes>"
      ]
     },
     "metadata": {},
     "output_type": "display_data"
    }
   ],
   "source": [
    "plt.style.use(\"seaborn\")\n",
    "plt.plot(x,y)\n",
    "plt.xlabel(\"x\")\n",
    "plt.ylabel(\"F(x)\")"
   ]
  },
  {
   "cell_type": "raw",
   "id": "9f1f5f97",
   "metadata": {},
   "source": [
    "As y = f(x - 5)^2 => Gradient of this is => 2(x-5) which is simply the differentiation w.r.t x of the function"
   ]
  },
  {
   "cell_type": "markdown",
   "id": "c1f5bb01",
   "metadata": {},
   "source": [
    "#### Implementing Gradient Descent"
   ]
  },
  {
   "cell_type": "code",
   "execution_count": 5,
   "id": "47dbf70b",
   "metadata": {},
   "outputs": [
    {
     "name": "stdout",
     "output_type": "stream",
     "text": [
      "Random Value ->  1.0 \n",
      "Cost ->  16.0\n",
      "\n",
      "=================\n",
      "Random Value ->  1.8 \n",
      "Cost ->  10.240000000000002\n",
      "\n",
      "=================\n",
      "Random Value ->  2.4400000000000004 \n",
      "Cost ->  6.553599999999998\n",
      "\n",
      "=================\n",
      "Random Value ->  2.9520000000000004 \n",
      "Cost ->  4.194303999999998\n",
      "\n",
      "=================\n",
      "Random Value ->  3.3616 \n",
      "Cost ->  2.6843545599999996\n",
      "\n",
      "=================\n",
      "Random Value ->  3.68928 \n",
      "Cost ->  1.7179869183999996\n",
      "\n",
      "=================\n",
      "Random Value ->  3.9514240000000003 \n",
      "Cost ->  1.0995116277759995\n",
      "\n",
      "=================\n",
      "Random Value ->  4.1611392 \n",
      "Cost ->  0.7036874417766399\n",
      "\n",
      "=================\n",
      "Random Value ->  4.32891136 \n",
      "Cost ->  0.4503599627370493\n",
      "\n",
      "=================\n",
      "Random Value ->  4.4631290880000005 \n",
      "Cost ->  0.2882303761517112\n",
      "\n",
      "=================\n",
      "Random Value ->  4.570503270400001 \n",
      "Cost ->  0.184467440737095\n",
      "\n",
      "=================\n",
      "Random Value ->  4.65640261632 \n",
      "Cost ->  0.11805916207174093\n",
      "\n",
      "=================\n",
      "Random Value ->  4.725122093056 \n",
      "Cost ->  0.07555786372591429\n",
      "\n",
      "=================\n",
      "Random Value ->  4.7800976744448 \n",
      "Cost ->  0.04835703278458515\n",
      "\n",
      "=================\n",
      "Random Value ->  4.82407813955584 \n",
      "Cost ->  0.030948500982134555\n",
      "\n",
      "=================\n",
      "Random Value ->  4.859262511644672 \n",
      "Cost ->  0.019807040628566166\n",
      "\n",
      "=================\n",
      "Random Value ->  4.8874100093157375 \n",
      "Cost ->  0.012676506002282305\n",
      "\n",
      "=================\n",
      "Random Value ->  4.90992800745259 \n",
      "Cost ->  0.008112963841460612\n",
      "\n",
      "=================\n",
      "Random Value ->  4.927942405962073 \n",
      "Cost ->  0.005192296858534741\n",
      "\n",
      "=================\n",
      "Random Value ->  4.942353924769658 \n",
      "Cost ->  0.0033230699894622544\n",
      "\n",
      "=================\n",
      "Random Value ->  4.953883139815726 \n",
      "Cost ->  0.0021267647932558427\n",
      "\n",
      "=================\n",
      "Random Value ->  4.9631065118525814 \n",
      "Cost ->  0.0013611294676837131\n",
      "\n",
      "=================\n",
      "Random Value ->  4.9704852094820655 \n",
      "Cost ->  0.0008711228593175555\n",
      "\n",
      "=================\n",
      "Random Value ->  4.976388167585652 \n",
      "Cost ->  0.0005575186299632523\n",
      "\n",
      "=================\n",
      "Random Value ->  4.981110534068522 \n",
      "Cost ->  0.000356811923176468\n",
      "\n",
      "=================\n",
      "Random Value ->  4.984888427254818 \n",
      "Cost ->  0.0002283596308329288\n",
      "\n",
      "=================\n",
      "Random Value ->  4.987910741803854 \n",
      "Cost ->  0.00014615016373307872\n",
      "\n",
      "=================\n",
      "Random Value ->  4.990328593443083 \n",
      "Cost ->  9.353610478917726e-05\n",
      "\n",
      "=================\n",
      "Random Value ->  4.992262874754466 \n",
      "Cost ->  5.986310706507345e-05\n",
      "\n",
      "=================\n",
      "Random Value ->  4.993810299803573 \n",
      "Cost ->  3.83123885216492e-05\n",
      "\n",
      "=================\n",
      "Random Value ->  4.995048239842858 \n",
      "Cost ->  2.451992865385725e-05\n",
      "\n",
      "=================\n",
      "Random Value ->  4.996038591874287 \n",
      "Cost ->  1.5692754338465825e-05\n",
      "\n",
      "=================\n",
      "Random Value ->  4.996830873499429 \n",
      "Cost ->  1.0043362776619253e-05\n",
      "\n",
      "=================\n",
      "Random Value ->  4.9974646987995435 \n",
      "Cost ->  6.427752177036323e-06\n",
      "\n",
      "=================\n",
      "Random Value ->  4.997971759039634 \n",
      "Cost ->  4.113761393304687e-06\n",
      "\n",
      "=================\n",
      "Random Value ->  4.9983774072317075 \n",
      "Cost ->  2.632807291715e-06\n",
      "\n",
      "=================\n",
      "Random Value ->  4.998701925785366 \n",
      "Cost ->  1.6849966666971388e-06\n",
      "\n",
      "=================\n",
      "Random Value ->  4.998961540628293 \n",
      "Cost ->  1.0783978666865378e-06\n",
      "\n",
      "=================\n",
      "Random Value ->  4.999169232502634 \n",
      "Cost ->  6.901746346793842e-07\n",
      "\n",
      "=================\n",
      "Random Value ->  4.999335386002107 \n",
      "Cost ->  4.417117661952781e-07\n",
      "\n",
      "=================\n",
      "Random Value ->  4.999468308801686 \n",
      "Cost ->  2.826955303647891e-07\n",
      "\n",
      "=================\n",
      "Random Value ->  4.9995746470413485 \n",
      "Cost ->  1.8092513943361614e-07\n",
      "\n",
      "=================\n",
      "Random Value ->  4.999659717633079 \n",
      "Cost ->  1.1579208923763523e-07\n",
      "\n",
      "=================\n",
      "Random Value ->  4.9997277741064625 \n",
      "Cost ->  7.410693711227997e-08\n",
      "\n",
      "=================\n",
      "Random Value ->  4.99978221928517 \n",
      "Cost ->  4.7428439751781807e-08\n",
      "\n",
      "=================\n",
      "Random Value ->  4.999825775428136 \n",
      "Cost ->  3.035420144107846e-08\n",
      "\n",
      "=================\n",
      "Random Value ->  4.999860620342509 \n",
      "Cost ->  1.9426688922339734e-08\n",
      "\n",
      "=================\n",
      "Random Value ->  4.999888496274007 \n",
      "Cost ->  1.243308091029743e-08\n",
      "\n",
      "=================\n",
      "Random Value ->  4.999910797019206 \n",
      "Cost ->  7.957171782526972e-09\n",
      "\n",
      "=================\n",
      "Random Value ->  4.999928637615365 \n",
      "Cost ->  5.092589940842615e-09\n",
      "\n",
      "=================\n"
     ]
    },
    {
     "data": {
      "image/png": "[encoded data removed]",
      "text/plain": [
       "<Figure size 576x396 with 1 Axes>"
      ]
     },
     "metadata": {},
     "output_type": "display_data"
    }
   ],
   "source": [
    "random_value = 0\n",
    "Learning_rate = 0.1\n",
    "error = []\n",
    "\n",
    "plt.plot(x,y)\n",
    "\n",
    "for i in range(50):\n",
    "    gradient = 2*(random_value-5)\n",
    "    random_value = random_value - (Learning_rate * gradient)\n",
    "    \n",
    "    Y = (random_value-5)**2\n",
    "    error.append(Y)\n",
    "    \n",
    "    print(\"Random Value -> \" ,random_value, \"\\nCost -> \", Y)\n",
    "\n",
    "    plt.scatter(random_value,Y)\n",
    "    \n",
    "    print(\"\\n=================\")\n",
    "    \n",
    "    "
   ]
  },
  {
   "cell_type": "raw",
   "id": "2745aada",
   "metadata": {},
   "source": [
    "we can observe that the step gradients are converging because the magnitude of (del f(x) / del x) is decreasing and can observe how our gradient descent is converging"
   ]
  },
  {
   "cell_type": "markdown",
   "id": "15878aaa",
   "metadata": {},
   "source": [
    "##### Plotting the errors"
   ]
  },
  {
   "cell_type": "code",
   "execution_count": 6,
   "id": "48816a9c",
   "metadata": {},
   "outputs": [
    {
     "data": {
      "text/plain": [
       "[<matplotlib.lines.Line2D at 0x1ca20387df0>]"
      ]
     },
     "execution_count": 6,
     "metadata": {},
     "output_type": "execute_result"
    },
    {
     "data": {
      "image/png": "[encoded data removed]",
      "text/plain": [
       "<Figure size 576x396 with 1 Axes>"
      ]
     },
     "metadata": {},
     "output_type": "display_data"
    }
   ],
   "source": [
    "plt.plot(error)"
   ]
  },
  {
   "cell_type": "raw",
   "id": "67ff56d0",
   "metadata": {},
   "source": [
    "this demonstrates that as we increase the number of steps, after around 10, the error is being saturated"
   ]
  }
 ],
 "metadata": {
  "kernelspec": {
   "display_name": "Python 3 (ipykernel)",
   "language": "python",
   "name": "python3"
  },
  "language_info": {
   "codemirror_mode": {
    "name": "ipython",
    "version": 3
   },
   "file_extension": ".py",
   "mimetype": "text/x-python",
   "name": "python",
   "nbconvert_exporter": "python",
   "pygments_lexer": "ipython3",
   "version": "3.9.7"
  }
 },
 "nbformat": 4,
 "nbformat_minor": 5
}
