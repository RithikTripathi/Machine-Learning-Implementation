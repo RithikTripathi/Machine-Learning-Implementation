{
 "cells": [
  {
   "cell_type": "markdown",
   "id": "6754061a",
   "metadata": {},
   "source": [
    "`Programmed By : Rithik Tripathi`\n",
    "\n",
    "[Connect with me on Linkedin](https://www.linkedin.com/in/rithik-tripathi-data-scientist/)"
   ]
  },
  {
   "cell_type": "raw",
   "id": "99a03428",
   "metadata": {},
   "source": [
    "This notebook explains how cost function is used to find best value of parameters using LINEAR REGRESSION"
   ]
  },
  {
   "cell_type": "markdown",
   "id": "c043b8af",
   "metadata": {},
   "source": [
    "# Cost Function"
   ]
  },
  {
   "cell_type": "code",
   "execution_count": 1,
   "id": "167a3eeb",
   "metadata": {},
   "outputs": [
    {
     "name": "stderr",
     "output_type": "stream",
     "text": [
      "C:\\Users\\rkt7k\\anaconda3\\lib\\site-packages\\scipy\\__init__.py:146: UserWarning: A NumPy version >=1.16.5 and <1.23.0 is required for this version of SciPy (detected version 1.24.1\n",
      "  warnings.warn(f\"A NumPy version >={np_minversion} and <{np_maxversion}\"\n"
     ]
    }
   ],
   "source": [
    "import numpy as np\n",
    "import pandas as pd\n",
    "import matplotlib.pyplot as plt\n",
    "from sklearn.metrics import mean_squared_error as mse "
   ]
  },
  {
   "cell_type": "code",
   "execution_count": 2,
   "id": "0c18dd79",
   "metadata": {},
   "outputs": [
    {
     "data": {
      "text/html": [
       "<div>\n",
       "<style scoped>\n",
       "    .dataframe tbody tr th:only-of-type {\n",
       "        vertical-align: middle;\n",
       "    }\n",
       "\n",
       "    .dataframe tbody tr th {\n",
       "        vertical-align: top;\n",
       "    }\n",
       "\n",
       "    .dataframe thead th {\n",
       "        text-align: right;\n",
       "    }\n",
       "</style>\n",
       "<table border=\"1\" class=\"dataframe\">\n",
       "  <thead>\n",
       "    <tr style=\"text-align: right;\">\n",
       "      <th></th>\n",
       "      <th>experience</th>\n",
       "      <th>salary</th>\n",
       "    </tr>\n",
       "  </thead>\n",
       "  <tbody>\n",
       "    <tr>\n",
       "      <th>0</th>\n",
       "      <td>1.2</td>\n",
       "      <td>1.7</td>\n",
       "    </tr>\n",
       "    <tr>\n",
       "      <th>1</th>\n",
       "      <td>1.5</td>\n",
       "      <td>2.4</td>\n",
       "    </tr>\n",
       "    <tr>\n",
       "      <th>2</th>\n",
       "      <td>1.9</td>\n",
       "      <td>2.3</td>\n",
       "    </tr>\n",
       "    <tr>\n",
       "      <th>3</th>\n",
       "      <td>2.2</td>\n",
       "      <td>3.1</td>\n",
       "    </tr>\n",
       "    <tr>\n",
       "      <th>4</th>\n",
       "      <td>2.4</td>\n",
       "      <td>3.7</td>\n",
       "    </tr>\n",
       "  </tbody>\n",
       "</table>\n",
       "</div>"
      ],
      "text/plain": [
       "   experience  salary\n",
       "0         1.2     1.7\n",
       "1         1.5     2.4\n",
       "2         1.9     2.3\n",
       "3         2.2     3.1\n",
       "4         2.4     3.7"
      ]
     },
     "execution_count": 2,
     "metadata": {},
     "output_type": "execute_result"
    }
   ],
   "source": [
    "# creating the sample dataset\n",
    "experience = [1.2,1.5,1.9,2.2,2.4,2.5,2.8,3.1,3.3,3.7,4.2,4.4]\n",
    "salary     = [1.7,2.4,2.3,3.1,3.7,4.2,4.4,6.1,5.4,5.7,6.4,6.2]\n",
    "\n",
    "df = pd.DataFrame({\n",
    "    'experience' : experience,\n",
    "    'salary' : salary\n",
    "})\n",
    "df.head()"
   ]
  },
  {
   "cell_type": "markdown",
   "id": "b65b1126",
   "metadata": {},
   "source": [
    "##### Defining a Linear Regression Equation to Predict Salary \n",
    "(Variables taken as constant for demonstration)"
   ]
  },
  {
   "cell_type": "code",
   "execution_count": 3,
   "id": "6695bce9",
   "metadata": {},
   "outputs": [],
   "source": [
    "pred_salary = np.array(experience)*1.7 - 0.7\n",
    "df['pred_salary'] = pred_salary"
   ]
  },
  {
   "cell_type": "code",
   "execution_count": 4,
   "id": "6debfd85",
   "metadata": {},
   "outputs": [
    {
     "data": {
      "text/html": [
       "<div>\n",
       "<style scoped>\n",
       "    .dataframe tbody tr th:only-of-type {\n",
       "        vertical-align: middle;\n",
       "    }\n",
       "\n",
       "    .dataframe tbody tr th {\n",
       "        vertical-align: top;\n",
       "    }\n",
       "\n",
       "    .dataframe thead th {\n",
       "        text-align: right;\n",
       "    }\n",
       "</style>\n",
       "<table border=\"1\" class=\"dataframe\">\n",
       "  <thead>\n",
       "    <tr style=\"text-align: right;\">\n",
       "      <th></th>\n",
       "      <th>experience</th>\n",
       "      <th>salary</th>\n",
       "      <th>pred_salary</th>\n",
       "    </tr>\n",
       "  </thead>\n",
       "  <tbody>\n",
       "    <tr>\n",
       "      <th>0</th>\n",
       "      <td>1.2</td>\n",
       "      <td>1.7</td>\n",
       "      <td>1.34</td>\n",
       "    </tr>\n",
       "    <tr>\n",
       "      <th>1</th>\n",
       "      <td>1.5</td>\n",
       "      <td>2.4</td>\n",
       "      <td>1.85</td>\n",
       "    </tr>\n",
       "    <tr>\n",
       "      <th>2</th>\n",
       "      <td>1.9</td>\n",
       "      <td>2.3</td>\n",
       "      <td>2.53</td>\n",
       "    </tr>\n",
       "    <tr>\n",
       "      <th>3</th>\n",
       "      <td>2.2</td>\n",
       "      <td>3.1</td>\n",
       "      <td>3.04</td>\n",
       "    </tr>\n",
       "    <tr>\n",
       "      <th>4</th>\n",
       "      <td>2.4</td>\n",
       "      <td>3.7</td>\n",
       "      <td>3.38</td>\n",
       "    </tr>\n",
       "  </tbody>\n",
       "</table>\n",
       "</div>"
      ],
      "text/plain": [
       "   experience  salary  pred_salary\n",
       "0         1.2     1.7         1.34\n",
       "1         1.5     2.4         1.85\n",
       "2         1.9     2.3         2.53\n",
       "3         2.2     3.1         3.04\n",
       "4         2.4     3.7         3.38"
      ]
     },
     "execution_count": 4,
     "metadata": {},
     "output_type": "execute_result"
    }
   ],
   "source": [
    "df.head()"
   ]
  },
  {
   "cell_type": "markdown",
   "id": "2a4309f9",
   "metadata": {},
   "source": [
    "##### Calculating error "
   ]
  },
  {
   "cell_type": "code",
   "execution_count": 5,
   "id": "8a620e24",
   "metadata": {},
   "outputs": [],
   "source": [
    "df['error'] = df['salary'] - df['pred_salary']\n",
    "error = salary - pred_salary # storing in array "
   ]
  },
  {
   "cell_type": "markdown",
   "id": "7eb00931",
   "metadata": {},
   "source": [
    "##### Calculating MSE"
   ]
  },
  {
   "cell_type": "code",
   "execution_count": 6,
   "id": "0b89e9d8",
   "metadata": {},
   "outputs": [
    {
     "data": {
      "text/plain": [
       "0.3383500000000003"
      ]
     },
     "execution_count": 6,
     "metadata": {},
     "output_type": "execute_result"
    }
   ],
   "source": [
    "# method 1\n",
    "np.square(error).sum()/len(error)"
   ]
  },
  {
   "cell_type": "code",
   "execution_count": 7,
   "id": "df38fe0d",
   "metadata": {},
   "outputs": [
    {
     "data": {
      "text/plain": [
       "0.3383500000000003"
      ]
     },
     "execution_count": 7,
     "metadata": {},
     "output_type": "execute_result"
    }
   ],
   "source": [
    "# method 2\n",
    "mse(df.salary, df.pred_salary)"
   ]
  },
  {
   "cell_type": "markdown",
   "id": "3f8af57c",
   "metadata": {},
   "source": [
    "### Visualizing Data"
   ]
  },
  {
   "cell_type": "code",
   "execution_count": 8,
   "id": "c556ba65",
   "metadata": {},
   "outputs": [
    {
     "data": {
      "text/plain": [
       "<matplotlib.legend.Legend at 0x15daa054970>"
      ]
     },
     "execution_count": 8,
     "metadata": {},
     "output_type": "execute_result"
    },
    {
     "data": {
      "image/png": "[encoded data removed]",
      "text/plain": [
       "<Figure size 432x288 with 1 Axes>"
      ]
     },
     "metadata": {
      "needs_background": "light"
     },
     "output_type": "display_data"
    }
   ],
   "source": [
    "plt.scatter(df.experience, df.salary, color = 'red', label = 'data points')\n",
    "plt.scatter(df.experience, df.pred_salary, color = 'green', label = 'predicted data points')\n",
    "plt.plot(df.experience, df.pred_salary, '-b')\n",
    "plt.xlim(1,4.5)\n",
    "plt.ylim(1,7)\n",
    "plt.xlabel('experience')\n",
    "plt.ylabel('salary')\n",
    "plt.legend()\n",
    "\n",
    "# data follows linear curve\n",
    "# blue line demonstrates the best fit line"
   ]
  },
  {
   "cell_type": "markdown",
   "id": "04e27c29",
   "metadata": {},
   "source": [
    "### Try playing around with the values of beta and b here to observe the change in fitting line"
   ]
  },
  {
   "cell_type": "code",
   "execution_count": 9,
   "id": "e74c5c43",
   "metadata": {},
   "outputs": [
    {
     "data": {
      "image/png": "[encoded data removed]",
      "text/plain": [
       "<Figure size 432x288 with 1 Axes>"
      ]
     },
     "metadata": {
      "needs_background": "light"
     },
     "output_type": "display_data"
    }
   ],
   "source": [
    "beta = 2\n",
    "b = 1.5\n",
    "\n",
    "#predicted points\n",
    "line1 = np.array(experience)*beta - b\n",
    "\n",
    "# Plotting the line\n",
    "plt.scatter(df.experience, df.salary, color = 'red')\n",
    "plt.plot(df.experience, line1, color = 'black', label = 'line')\n",
    "plt.xlim(1,4.5)\n",
    "plt.ylim(1,7)\n",
    "plt.xlabel('Experience')\n",
    "plt.ylabel('Salary')\n",
    "plt.legend()\n",
    "MSE = mse(df.salary, line1)\n",
    "plt.title(\"Beta value \"+str(beta)+\" with MSE \"+ str(MSE))\n",
    "MSE = mse(df.salary, line1)"
   ]
  },
  {
   "cell_type": "markdown",
   "id": "fbadcd8d",
   "metadata": {},
   "source": [
    "### Calculating error for a range of values of Beta"
   ]
  },
  {
   "cell_type": "code",
   "execution_count": 15,
   "id": "3854a77f",
   "metadata": {},
   "outputs": [],
   "source": [
    "def calc_error(beta, df):\n",
    "    \n",
    "    b = 1.1 # considering b as constant\n",
    "    \n",
    "    pred_salary = df.experience*beta + b  # predictions for each data point\n",
    "    \n",
    "    MSE = mse(df.salary, pred_salary) # calculating MSE for current Beta value predicitons \n",
    "    \n",
    "    return MSE"
   ]
  },
  {
   "cell_type": "code",
   "execution_count": 19,
   "id": "c7db7c29",
   "metadata": {},
   "outputs": [
    {
     "data": {
      "text/html": [
       "<div>\n",
       "<style scoped>\n",
       "    .dataframe tbody tr th:only-of-type {\n",
       "        vertical-align: middle;\n",
       "    }\n",
       "\n",
       "    .dataframe tbody tr th {\n",
       "        vertical-align: top;\n",
       "    }\n",
       "\n",
       "    .dataframe thead th {\n",
       "        text-align: right;\n",
       "    }\n",
       "</style>\n",
       "<table border=\"1\" class=\"dataframe\">\n",
       "  <thead>\n",
       "    <tr style=\"text-align: right;\">\n",
       "      <th></th>\n",
       "      <th>Beta</th>\n",
       "      <th>Cost</th>\n",
       "    </tr>\n",
       "  </thead>\n",
       "  <tbody>\n",
       "    <tr>\n",
       "      <th>0</th>\n",
       "      <td>0.00</td>\n",
       "      <td>12.791667</td>\n",
       "    </tr>\n",
       "    <tr>\n",
       "      <th>1</th>\n",
       "      <td>0.01</td>\n",
       "      <td>12.585876</td>\n",
       "    </tr>\n",
       "    <tr>\n",
       "      <th>2</th>\n",
       "      <td>0.02</td>\n",
       "      <td>12.381806</td>\n",
       "    </tr>\n",
       "    <tr>\n",
       "      <th>3</th>\n",
       "      <td>0.03</td>\n",
       "      <td>12.179455</td>\n",
       "    </tr>\n",
       "    <tr>\n",
       "      <th>4</th>\n",
       "      <td>0.04</td>\n",
       "      <td>11.978824</td>\n",
       "    </tr>\n",
       "  </tbody>\n",
       "</table>\n",
       "</div>"
      ],
      "text/plain": [
       "   Beta       Cost\n",
       "0  0.00  12.791667\n",
       "1  0.01  12.585876\n",
       "2  0.02  12.381806\n",
       "3  0.03  12.179455\n",
       "4  0.04  11.978824"
      ]
     },
     "execution_count": 19,
     "metadata": {},
     "output_type": "execute_result"
    }
   ],
   "source": [
    "# Calculating Cost (Errors) for raneg of Beta (slope) values\n",
    "slope = [i/100 for i in range(0,300)]\n",
    "costs = []\n",
    "\n",
    "for i in slope:\n",
    "    cost = calc_error(beta= i, df= df)\n",
    "    costs.append(cost)\n",
    "    \n",
    "# Arranging in a DataFrame\n",
    "cost_df = pd.DataFrame({\n",
    "    'Beta' : slope,\n",
    "    'Cost' : costs\n",
    "})\n",
    "cost_df.head()"
   ]
  },
  {
   "cell_type": "markdown",
   "id": "110c9137",
   "metadata": {},
   "source": [
    "### Visualising Cost v/s Beta"
   ]
  },
  {
   "cell_type": "code",
   "execution_count": 20,
   "id": "86f12b39",
   "metadata": {},
   "outputs": [
    {
     "data": {
      "text/plain": [
       "<matplotlib.legend.Legend at 0x15dac390eb0>"
      ]
     },
     "execution_count": 20,
     "metadata": {},
     "output_type": "execute_result"
    },
    {
     "data": {
      "image/png": "[encoded data removed]",
      "text/plain": [
       "<Figure size 432x288 with 1 Axes>"
      ]
     },
     "metadata": {
      "needs_background": "light"
     },
     "output_type": "display_data"
    }
   ],
   "source": [
    "# plotting the cost values corresponding to every value of Beta\n",
    "plt.plot(cost_df.Beta, cost_df.Cost, color = 'blue', label = 'Cost Function Curve')\n",
    "plt.xlabel('Value of Beta')\n",
    "plt.ylabel('Cost')\n",
    "plt.legend()"
   ]
  },
  {
   "cell_type": "code",
   "execution_count": 35,
   "id": "90fdc425",
   "metadata": {},
   "outputs": [
    {
     "data": {
      "text/plain": [
       "120    1.2\n",
       "Name: Beta, dtype: float64"
      ]
     },
     "execution_count": 35,
     "metadata": {},
     "output_type": "execute_result"
    }
   ],
   "source": [
    "# Method 1 => Calc. lowest cost and then locate respective Beta with index location of cost\n",
    "min_cost= cost_df[cost_df['Cost'] == cost_df['Cost'].min()].index\n",
    "best_beta = cost_df.iloc[min_cost]['Beta']\n",
    "best_beta"
   ]
  },
  {
   "cell_type": "code",
   "execution_count": 40,
   "id": "a7519641",
   "metadata": {},
   "outputs": [
    {
     "data": {
      "text/plain": [
       "1.2"
      ]
     },
     "execution_count": 40,
     "metadata": {},
     "output_type": "execute_result"
    }
   ],
   "source": [
    "# Method 2 => Sort Dataframe w.r.t Cost and get the beta value of 0th row\n",
    "cost_df.sort_values(by='Cost')['Beta'].iloc[0]"
   ]
  }
 ],
 "metadata": {
  "kernelspec": {
   "display_name": "Python 3 (ipykernel)",
   "language": "python",
   "name": "python3"
  },
  "language_info": {
   "codemirror_mode": {
    "name": "ipython",
    "version": 3
   },
   "file_extension": ".py",
   "mimetype": "text/x-python",
   "name": "python",
   "nbconvert_exporter": "python",
   "pygments_lexer": "ipython3",
   "version": "3.9.7"
  }
 },
 "nbformat": 4,
 "nbformat_minor": 5
}
